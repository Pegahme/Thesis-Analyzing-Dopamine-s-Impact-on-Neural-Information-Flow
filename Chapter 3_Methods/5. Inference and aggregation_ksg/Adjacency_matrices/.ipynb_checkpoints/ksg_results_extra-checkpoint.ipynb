{
 "cells": [
  {
   "cell_type": "markdown",
   "id": "d472c701-ab76-401c-97b1-f3e1ce50d314",
   "metadata": {},
   "source": [
    "# Count robust edges by threshold\n",
    "Compute number of edges reproducible in ≥70% and ≥90% of sessions per group."
   ]
  },
  {
   "cell_type": "code",
   "execution_count": null,
   "id": "20af8a7f-0484-4f23-a0ff-f9e43d79c92e",
   "metadata": {},
   "outputs": [],
   "source": [
    "import numpy as np\n",
    "\n",
    "groups = ['healthy', 'PD-off', 'PD-on']\n",
    "ksg_dir = '/lustre/majlepy2/myproject/Results/ksg_results'\n",
    "thresholds = [0.7, 0.9]\n",
    "\n",
    "for thresh in thresholds:\n",
    "    print(f\"\\n=== Threshold {int(thresh*100)}% ===\")\n",
    "    for group in groups:\n",
    "        edge_presence = np.load(f'{ksg_dir}/{group}_edge_presence.npy')\n",
    "        n_edges = np.sum(edge_presence >= thresh)\n",
    "        print(f\"{group}: {n_edges} edges survive ≥{int(thresh*100)}% reproducibility\")\n"
   ]
  },
  {
   "cell_type": "markdown",
   "id": "4d6cd3ad-6314-4fd7-ac18-2529d0f26060",
   "metadata": {},
   "source": [
    "# Inspect robust edges with lags\n",
    "For one group, list edges reproducible above threshold (e.g., 90%) with their presence rate and most common lag."
   ]
  },
  {
   "cell_type": "code",
   "execution_count": null,
   "id": "d5bec2bb-2a3b-4490-bb00-3f124912486f",
   "metadata": {},
   "outputs": [],
   "source": [
    "import numpy as np\n",
    "\n",
    "group = 'healthy'  # or 'PD-off', 'PD-on'\n",
    "ksg_dir = '/lustre/majlepy2/myproject/Results/ksg_results'\n",
    "\n",
    "edge_presence = np.load(f'{ksg_dir}/{group}_edge_presence.npy')\n",
    "lag_summary   = np.load(f'{ksg_dir}/{group}_lag_summary.npy')\n",
    "\n",
    "thresh = 0.9\n",
    "edges = np.where(edge_presence >= thresh)\n",
    "robust_edges = list(zip(edges[0], edges[1]))\n",
    "\n",
    "print(f\"Edges present in at least {thresh*100:.0f}% of sessions for {group}:\")\n",
    "for (src, tgt) in robust_edges:\n",
    "    presence = edge_presence[src, tgt]\n",
    "    lag = lag_summary[src, tgt]\n",
    "    print(f\"Edge {src} → {tgt}: present in {presence*100:.1f}% of sessions, typical lag = {lag}\")\n",
    "\n",
    "nearly_all_thresh = 0.95\n",
    "very_robust_edges = np.where(edge_presence >= nearly_all_thresh)\n",
    "for (src, tgt) in zip(very_robust_edges[0], very_robust_edges[1]):\n",
    "    print(f\"Edge {src} → {tgt}: present in {edge_presence[src, tgt]*100:.1f}% of sessions, lag = {lag_summary[src, tgt]}\")\n"
   ]
  },
  {
   "cell_type": "markdown",
   "id": "d04514e8-5d95-42df-8058-1386786baa69",
   "metadata": {},
   "source": [
    "# Node-level robust degree analysis\n",
    "At threshold = 100% (edge present in all sessions), compute per-node:\n",
    "- out-degree (robust drivers),\n",
    "- in-degree (robust receivers).  \n",
    "Plot bar charts."
   ]
  },
  {
   "cell_type": "code",
   "execution_count": null,
   "id": "32bf4962-7a6e-41f2-be85-e52b7ef0416a",
   "metadata": {},
   "outputs": [],
   "source": [
    "import numpy as np\n",
    "import matplotlib.pyplot as plt\n",
    "\n",
    "groups = ['healthy', 'PD-off', 'PD-on']\n",
    "ksg_dir = '/lustre/majlepy2/myproject/Results/ksg_results'\n",
    "thresh = 1.0\n",
    "\n",
    "for group in groups:\n",
    "    edge_presence = np.load(f'{ksg_dir}/{group}_edge_presence.npy')\n",
    "    robust_mask = edge_presence >= thresh\n",
    "    n_nodes = edge_presence.shape[0]\n",
    "    \n",
    "    out_counts = robust_mask.sum(axis=1)\n",
    "    in_counts = robust_mask.sum(axis=0)\n",
    "    \n",
    "    plt.figure(figsize=(12, 5))\n",
    "    plt.subplot(1, 2, 1)\n",
    "    plt.bar(np.arange(n_nodes), out_counts)\n",
    "    plt.xlabel('Node index')\n",
    "    plt.ylabel('Number of robust outgoing edges')\n",
    "    plt.title(f'{group}: Robust Drivers (sources)')\n",
    "\n",
    "    plt.subplot(1, 2, 2)\n",
    "    plt.bar(np.arange(n_nodes), in_counts)\n",
    "    plt.xlabel('Node index')\n",
    "    plt.ylabel('Number of robust incoming edges')\n",
    "    plt.title(f'{group}: Robust Receivers (targets)')\n",
    "    \n",
    "    plt.tight_layout()\n",
    "    plt.show()\n"
   ]
  }
 ],
 "metadata": {
  "kernelspec": {
   "display_name": "Python 3 (ipykernel)",
   "language": "python",
   "name": "python3"
  },
  "language_info": {
   "codemirror_mode": {
    "name": "ipython",
    "version": 3
   },
   "file_extension": ".py",
   "mimetype": "text/x-python",
   "name": "python",
   "nbconvert_exporter": "python",
   "pygments_lexer": "ipython3",
   "version": "3.11.7"
  }
 },
 "nbformat": 4,
 "nbformat_minor": 5
}
