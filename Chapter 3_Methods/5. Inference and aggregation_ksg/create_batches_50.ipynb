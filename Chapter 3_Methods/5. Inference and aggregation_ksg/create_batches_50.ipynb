{
 "cells": [
  {
   "cell_type": "code",
   "execution_count": 1,
   "id": "73dd669c-5b0e-4614-aa58-86f90b012dec",
   "metadata": {},
   "outputs": [
    {
     "name": "stdout",
     "output_type": "stream",
     "text": [
      "Found 36 files.\n",
      "Created: /lustre/majlepy2/myproject/50_epochs_idtxl/batches/batch_00.txt with 3 files\n",
      "Created: /lustre/majlepy2/myproject/50_epochs_idtxl/batches/batch_01.txt with 3 files\n",
      "Created: /lustre/majlepy2/myproject/50_epochs_idtxl/batches/batch_02.txt with 3 files\n",
      "Created: /lustre/majlepy2/myproject/50_epochs_idtxl/batches/batch_03.txt with 3 files\n",
      "Created: /lustre/majlepy2/myproject/50_epochs_idtxl/batches/batch_04.txt with 3 files\n",
      "Created: /lustre/majlepy2/myproject/50_epochs_idtxl/batches/batch_05.txt with 3 files\n",
      "Created: /lustre/majlepy2/myproject/50_epochs_idtxl/batches/batch_06.txt with 3 files\n",
      "Created: /lustre/majlepy2/myproject/50_epochs_idtxl/batches/batch_07.txt with 3 files\n",
      "Created: /lustre/majlepy2/myproject/50_epochs_idtxl/batches/batch_08.txt with 3 files\n",
      "Created: /lustre/majlepy2/myproject/50_epochs_idtxl/batches/batch_09.txt with 3 files\n",
      "Created: /lustre/majlepy2/myproject/50_epochs_idtxl/batches/batch_10.txt with 3 files\n",
      "Created: /lustre/majlepy2/myproject/50_epochs_idtxl/batches/batch_11.txt with 3 files\n"
     ]
    }
   ],
   "source": [
    "from pathlib import Path\n",
    "\n",
    "# === CONFIG ===\n",
    "out_dir = Path(\"/lustre/majlepy2/myproject/50_epochs_idtxl\")\n",
    "batch_dir = out_dir / \"batches\"\n",
    "batch_dir.mkdir(parents=True, exist_ok=True)\n",
    "batch_size = 3\n",
    "\n",
    "# === Find matching files ===\n",
    "all_files = sorted(out_dir.glob(\"*_pca_ica_23_130_50.npy\"))\n",
    "print(f\"Found {len(all_files)} files.\")\n",
    "\n",
    "# === Split into batches and save ===\n",
    "for i in range(0, len(all_files), batch_size):\n",
    "    batch_files = all_files[i:i + batch_size]\n",
    "    batch_file = batch_dir / f\"batch_{i // batch_size:02d}.txt\"\n",
    "    \n",
    "    with open(batch_file, \"w\") as f:\n",
    "        for bf in batch_files:\n",
    "            f.write(str(bf) + \"\\n\")\n",
    "    \n",
    "    print(f\"Created: {batch_file} with {len(batch_files)} files\")\n"
   ]
  },
  {
   "cell_type": "code",
   "execution_count": null,
   "id": "d5c22f85-fb42-4f0c-be2f-4d6f7e3d5221",
   "metadata": {},
   "outputs": [],
   "source": []
  }
 ],
 "metadata": {
  "kernelspec": {
   "display_name": "Python 3 (ipykernel)",
   "language": "python",
   "name": "python3"
  },
  "language_info": {
   "codemirror_mode": {
    "name": "ipython",
    "version": 3
   },
   "file_extension": ".py",
   "mimetype": "text/x-python",
   "name": "python",
   "nbconvert_exporter": "python",
   "pygments_lexer": "ipython3",
   "version": "3.11.7"
  }
 },
 "nbformat": 4,
 "nbformat_minor": 5
}
