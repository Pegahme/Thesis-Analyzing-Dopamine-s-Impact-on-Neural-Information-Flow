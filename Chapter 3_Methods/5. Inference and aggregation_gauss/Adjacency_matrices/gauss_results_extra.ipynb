{
 "cells": [
  {
   "cell_type": "markdown",
   "id": "e38a7bee-d3be-4964-94c9-0c0d6269d672",
   "metadata": {},
   "source": [
    "# Count robust edges by threshold (Gaussian)\n",
    "Compute number of edges reproducible in ≥70% and ≥90% of sessions per group.\n"
   ]
  },
  {
   "cell_type": "code",
   "execution_count": null,
   "id": "63baa9cf-f9c8-4011-891d-781a531c5712",
   "metadata": {},
   "outputs": [],
   "source": [
    "import numpy as np\n",
    "\n",
    "groups = ['healthy', 'PD-off', 'PD-on']\n",
    "gauss_dir = '/lustre/majlepy2/myproject/Results/gauss_results'\n",
    "thresholds = [0.7, 0.9]\n",
    "\n",
    "for thresh in thresholds:\n",
    "    print(f\"\\n=== Threshold {int(thresh*100)}% ===\")\n",
    "    for group in groups:\n",
    "        edge_presence = np.load(f'{gauss_dir}/{group}_edge_presence.npy')\n",
    "        n_edges = np.sum(edge_presence >= thresh)\n",
    "        print(f\"{group}: {n_edges} edges survive ≥{int(thresh*100)}% reproducibility\")\n"
   ]
  },
  {
   "cell_type": "markdown",
   "id": "6b34a9cf-28db-4ad7-bbba-a7423bc80b7b",
   "metadata": {},
   "source": [
    "# Inspect robust edges with lags (Gaussian)\n",
    "List edges reproducible above a chosen threshold (e.g., 70%) with their presence rate and most common lag."
   ]
  },
  {
   "cell_type": "code",
   "execution_count": null,
   "id": "3d0e07a7-f736-45cf-a445-013da3d1d406",
   "metadata": {},
   "outputs": [],
   "source": [
    "import numpy as np\n",
    "\n",
    "# --- Choose a group and threshold ---\n",
    "group = 'healthy'  # or your group\n",
    "gauss_dir = '/lustre/majlepy2/myproject/Results/gauss_results'\n",
    "\n",
    "edge_presence = np.load(f'{gauss_dir}/{group}_edge_presence.npy')\n",
    "lag_summary = np.load(f'{gauss_dir}/{group}_lag_summary.npy')\n",
    "\n",
    "thresh = 0.7  # e.g., 0.9 for 90%\n",
    "\n",
    "# Find edges present in >= thresh fraction of sessions\n",
    "edges = np.where(edge_presence >= thresh)\n",
    "robust_edges = list(zip(edges[0], edges[1]))  # (source, target) pairs\n",
    "\n",
    "print(f\"Edges present in at least {thresh*100:.0f}% of sessions for {group}:\")\n",
    "for (src, tgt) in robust_edges:\n",
    "    presence = edge_presence[src, tgt]\n",
    "    lag = lag_summary[src, tgt]\n",
    "    print(f\"Edge {src} → {tgt}: present in {presence*100:.1f}% of sessions, typical lag = {lag}\")\n",
    "\n",
    "# Optionally: edges present in nearly all sessions (e.g., ≥95%)\n",
    "nearly_all_thresh = 0.95\n",
    "very_robust_edges = np.where(edge_presence >= nearly_all_thresh)\n",
    "for (src, tgt) in zip(very_robust_edges[0], very_robust_edges[1]):\n",
    "    print(f\"Edge {src} → {tgt}: present in {edge_presence[src, tgt]*100:.1f}% of sessions, lag = {lag_summary[src, tgt]}\")\n"
   ]
  },
  {
   "cell_type": "markdown",
   "id": "57c453eb-c1b0-4382-9204-ea8af877fa23",
   "metadata": {},
   "source": [
    "# Export robust edge lists per group (Gaussian)\n",
    "Create nice tables (DataFrames) of robust edges per group and save them as CSV for later analysis/figures."
   ]
  },
  {
   "cell_type": "code",
   "execution_count": null,
   "id": "bc67ba3b-6689-4fe2-92da-b71c388112d0",
   "metadata": {},
   "outputs": [],
   "source": [
    "import numpy as np\n",
    "import pandas as pd\n",
    "\n",
    "groups = ['healthy', 'PD-off', 'PD-on']\n",
    "gauss_dir = '/lustre/majlepy2/myproject/Results/gauss_results'\n",
    "thresh = 0.7  # e.g., 0.9 for stricter reproducibility\n",
    "\n",
    "edge_results = {}\n",
    "\n",
    "for group in groups:\n",
    "    edge_presence = np.load(f'{gauss_dir}/{group}_edge_presence.npy')\n",
    "    lag_summary = np.load(f'{gauss_dir}/{group}_lag_summary.npy')\n",
    "\n",
    "    edges = np.where(edge_presence >= thresh)\n",
    "    robust_edges = []\n",
    "    for src, tgt in zip(edges[0], edges[1]):\n",
    "        presence = edge_presence[src, tgt]\n",
    "        lag = lag_summary[src, tgt]\n",
    "        robust_edges.append({'driver': src, 'receiver': tgt,\n",
    "                             'fraction': presence,\n",
    "                             'lag': lag})\n",
    "    \n",
    "    # Convert to DataFrame and sort (optional)\n",
    "    df = pd.DataFrame(robust_edges)\n",
    "    df = df.sort_values(by=['fraction', 'driver', 'receiver'], ascending=[False, True, True])\n",
    "    edge_results[group] = df\n",
    "\n",
    "    print(f\"\\nMost robust edges for '{group}' (≥{int(thresh*100)}% of sessions):\")\n",
    "    print(df.to_string(index=False))\n",
    "\n",
    "    # Save to CSV\n",
    "    df.to_csv(f'{gauss_dir}/{group}_robust_edges_thresh{int(thresh*100)}.csv', index=False)\n"
   ]
  },
  {
   "cell_type": "markdown",
   "id": "af7715f6-f8ea-4a6c-abf9-e015475e307f",
   "metadata": {},
   "source": [
    "# Node-level robust degree analysis (Gaussian)\n",
    "At a chosen threshold (e.g., 70%), compute per-node:\n",
    "- **out-degree** (robust drivers),  \n",
    "- **in-degree** (robust receivers).  \n",
    "Plot bar charts for each group.\n"
   ]
  },
  {
   "cell_type": "code",
   "execution_count": null,
   "id": "5e1c35ea-615f-408f-93c1-0addde687a44",
   "metadata": {},
   "outputs": [],
   "source": [
    "import numpy as np\n",
    "import matplotlib.pyplot as plt\n",
    "\n",
    "groups = ['healthy', 'PD-off', 'PD-on']\n",
    "gauss_dir = '/lustre/majlepy2/myproject/Results/gauss_results'\n",
    "thresh = 0.7\n",
    "\n",
    "for group in groups:\n",
    "    edge_presence = np.load(f'{gauss_dir}/{group}_edge_presence.npy')\n",
    "    robust_mask = edge_presence >= thresh\n",
    "    n_nodes = edge_presence.shape[0]\n",
    "    \n",
    "    # Out-degree: robust outgoing edges (source role)\n",
    "    out_counts = robust_mask.sum(axis=1)\n",
    "    # In-degree: robust incoming edges (target role)\n",
    "    in_counts = robust_mask.sum(axis=0)\n",
    "    \n",
    "    plt.figure(figsize=(12, 5))\n",
    "    plt.subplot(1, 2, 1)\n",
    "    plt.bar(np.arange(n_nodes), out_counts)\n",
    "    plt.xlabel('Node index')\n",
    "    plt.ylabel('Number of robust outgoing edges')\n",
    "    plt.title(f'{group}: Robust Drivers (sources)')\n",
    "\n",
    "    plt.subplot(1, 2, 2)\n",
    "    plt.bar(np.arange(n_nodes), in_counts)\n",
    "    plt.xlabel('Node index')\n",
    "    plt.ylabel('Number of robust incoming edges')\n",
    "    plt.title(f'{group}: Robust Receivers (targets)')\n",
    "    \n",
    "    plt.tight_layout()\n",
    "    plt.show()\n"
   ]
  }
 ],
 "metadata": {
  "kernelspec": {
   "display_name": "Python 3 (ipykernel)",
   "language": "python",
   "name": "python3"
  },
  "language_info": {
   "codemirror_mode": {
    "name": "ipython",
    "version": 3
   },
   "file_extension": ".py",
   "mimetype": "text/x-python",
   "name": "python",
   "nbconvert_exporter": "python",
   "pygments_lexer": "ipython3",
   "version": "3.11.7"
  }
 },
 "nbformat": 4,
 "nbformat_minor": 5
}
