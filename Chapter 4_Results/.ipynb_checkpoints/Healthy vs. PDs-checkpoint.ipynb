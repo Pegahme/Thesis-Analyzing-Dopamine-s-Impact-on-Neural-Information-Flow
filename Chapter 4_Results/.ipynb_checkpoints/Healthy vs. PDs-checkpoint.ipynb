{
 "cells": [
  {
   "cell_type": "markdown",
   "id": "f018f987-d69b-408a-ab66-3a0c5c477809",
   "metadata": {},
   "source": [
    "# Healthy vs. PDs — Group Reproducibility & Similarity Analyses\n",
    "\n",
    "**What it does:**\n",
    "- Loads session-wise **KSG binary adjacency matrices** (per-edge permutation test; no across-edge FDR).\n",
    "- Builds **group edge-presence matrices** \n",
    "- Defines **robust edges** at 70% and 90% presence\n",
    "- Computes **Healthy–PD difference maps** \n",
    "- Computes **Jaccard overlaps** with Healthy \n",
    "- Generates **overlay figures** of robust backbones\n",
    "\n",
    "**Inputs required:**\n",
    "- Precomputed session-level KSG adjacency binaries (`*_ksg_binary.npy`) saved under `Results/ksg_results/`.\n",
    "- `subject_session_metadata.csv` for mapping sessions to groups.\n",
    "\n",
    "**Outputs:**\n",
    "- CSVs with presence matrices and overlap metrics.\n",
    "- Figures for group difference maps and overlays.\n",
    "- Values that appear in **Table 4.X** and **Figure 4.X** of the thesis.\n",
    "\n",
    "**Notes:**\n",
    "- No across-edge FDR is applied here.\n",
    "- Presence thresholds are 70% and 90% (50% is computed but not emphasized).\n"
   ]
  },
  {
   "cell_type": "code",
   "execution_count": 1,
   "id": "a3fecd2b-2d19-479a-a052-3f57703fc8b4",
   "metadata": {},
   "outputs": [
    {
     "name": "stdout",
     "output_type": "stream",
     "text": [
      "Found 36 binary adjacency matrices.\n"
     ]
    }
   ],
   "source": [
    "from pathlib import Path\n",
    "import numpy as np\n",
    "import pandas as pd\n",
    "import re\n",
    "\n",
    "# Paths\n",
    "BASE    = Path(\"/lustre/majlepy2/myproject\")\n",
    "META    = BASE / \"subject_session_metadata.csv\"\n",
    "KSGDIR  = BASE / \"Results/ksg_results\"\n",
    "OUTDIR  = Path(\"/home/majlepy2/myproject/Step-wise/figs\")\n",
    "OUTDIR.mkdir(exist_ok=True, parents=True)\n",
    "\n",
    "# Load metadata\n",
    "meta = pd.read_csv(META)\n",
    "meta[\"sub_ses\"] = meta[\"subject\"] + \"_\" + meta[\"session\"]\n",
    "\n",
    "# Build lookup group -> session files\n",
    "bin_files = sorted(KSGDIR.glob(\"*_combined_ksg_binary.npy\"))\n",
    "sessions = {}\n",
    "for f in bin_files:\n",
    "    stem = f.name.replace(\"_combined_ksg_binary.npy\", \"\")\n",
    "    sessions[stem] = f\n",
    "print(f\"Found {len(sessions)} binary adjacency matrices.\")\n"
   ]
  },
  {
   "cell_type": "code",
   "execution_count": 2,
   "id": "25a3d36b-24b3-4523-99ba-fbf2740ac8dd",
   "metadata": {},
   "outputs": [
    {
     "name": "stdout",
     "output_type": "stream",
     "text": [
      "healthy: 12 sessions\n",
      "PD-off: 12 sessions\n",
      "PD-on: 12 sessions\n",
      "S_H=12, S_OFF=12, S_ON=12, N=23\n"
     ]
    }
   ],
   "source": [
    "# Collect files per group (Healthy, PD-off, PD-on)\n",
    "group_bins = {\"healthy\": [], \"PD-off\": [], \"PD-on\": []}\n",
    "\n",
    "for _, row in meta.iterrows():\n",
    "    sub_ses = f\"{row['subject']}_{row['session']}\"\n",
    "    f = sessions.get(sub_ses)\n",
    "    if f and row[\"group\"] in group_bins:\n",
    "        group_bins[row[\"group\"]].append(f)\n",
    "\n",
    "for g, files in group_bins.items():\n",
    "    print(f\"{g}: {len(files)} sessions\")\n",
    "\n",
    "# Load into arrays\n",
    "def load_stack(files):\n",
    "    mats = [np.load(f).astype(np.int8) for f in files]\n",
    "    return np.stack(mats, axis=0) if mats else None\n",
    "\n",
    "mats_H   = load_stack(group_bins[\"healthy\"])\n",
    "mats_OFF = load_stack(group_bins[\"PD-off\"])\n",
    "mats_ON  = load_stack(group_bins[\"PD-on\"])\n",
    "\n",
    "S_H, N, _   = mats_H.shape\n",
    "S_OFF, _, _ = mats_OFF.shape\n",
    "S_ON, _, _  = mats_ON.shape\n",
    "print(f\"S_H={S_H}, S_OFF={S_OFF}, S_ON={S_ON}, N={N}\")\n"
   ]
  },
  {
   "cell_type": "code",
   "execution_count": 3,
   "id": "e2fe346f-8e0b-43b7-ab10-72875e286007",
   "metadata": {},
   "outputs": [],
   "source": [
    "import matplotlib.pyplot as plt\n",
    "\n",
    "def independent_edge_test(mats_A, mats_B, label_A=\"GroupA\", label_B=\"GroupB\",\n",
    "                          n_perm=20000, alpha=0.05, outstem=\"test\"):\n",
    "    \"\"\"\n",
    "    Compare edge presence between two independent groups (Healthy vs PD).\n",
    "    \"\"\"\n",
    "    SA, N, _ = mats_A.shape\n",
    "    SB, _, _ = mats_B.shape\n",
    "\n",
    "    # Presence fractions per edge\n",
    "    mean_A = mats_A.mean(axis=0)\n",
    "    mean_B = mats_B.mean(axis=0)\n",
    "    obs = mean_A - mean_B   # observed Healthy−PD\n",
    "    \n",
    "    # Candidate edges = off-diagonal, present at least once\n",
    "    diag = np.eye(N, dtype=bool)\n",
    "    ever = (mats_A.sum(axis=0) + mats_B.sum(axis=0)) > 0\n",
    "    mask = (~diag) & ever\n",
    "    E = mask.sum()\n",
    "    print(f\"Testing {E} candidate edges\")\n",
    "\n",
    "    # Flatten for permutation\n",
    "    obs_vec = obs[mask]\n",
    "    all_mats = np.concatenate([mats_A, mats_B], axis=0)  # (S_total, N, N)\n",
    "    labels = np.array([0]*SA + [1]*SB)\n",
    "\n",
    "    # Permutations\n",
    "    rng = np.random.default_rng(20250829)\n",
    "    perm_means = np.empty((n_perm, E), dtype=np.float32)\n",
    "    for i in range(n_perm):\n",
    "        perm_labels = rng.permutation(labels)\n",
    "        grpA = all_mats[perm_labels==0].mean(axis=0)\n",
    "        grpB = all_mats[perm_labels==1].mean(axis=0)\n",
    "        perm_means[i] = (grpA - grpB)[mask]\n",
    "\n",
    "    # Two-tailed p-values\n",
    "    abs_obs  = np.abs(obs_vec)[None, :]\n",
    "    abs_perm = np.abs(perm_means)\n",
    "    hits = (abs_perm >= abs_obs).sum(axis=0)\n",
    "    pvals = (hits + 1.0) / (n_perm + 1.0)\n",
    "\n",
    "    # BH–FDR\n",
    "    order = np.argsort(pvals)\n",
    "    ranks = np.arange(1, len(pvals)+1)\n",
    "    thresh = alpha * ranks / len(pvals)\n",
    "    passed = pvals[order] <= thresh\n",
    "    sig_vec = np.zeros_like(pvals, dtype=bool)\n",
    "    if passed.any():\n",
    "        kmax = np.max(np.where(passed)[0])\n",
    "        cutoff = thresh[kmax]\n",
    "        sig_vec = pvals <= cutoff\n",
    "\n",
    "    # Counts\n",
    "    sig_mat = np.zeros((N,N), dtype=bool); sig_mat[mask] = sig_vec\n",
    "    vals = obs[sig_mat]\n",
    "    total = vals.size\n",
    "    HgtPD = int((vals > 0).sum())\n",
    "    PDgtH = int((vals < 0).sum())\n",
    "    print(f\"Significant edges: total={total}, {label_A}>{label_B}={HgtPD}, {label_B}>{label_A}={PDgtH}\")\n",
    "\n",
    "    # Figure\n",
    "    fig, ax = plt.subplots(figsize=(7,6), dpi=200)\n",
    "    vlim = max(abs(obs.min()), abs(obs.max()))\n",
    "    im = ax.imshow(obs, vmin=-vlim, vmax=+vlim, cmap=\"bwr\", interpolation=\"nearest\")\n",
    "    alpha_mask = np.where(sig_mat, 1.0, 0.15)\n",
    "    im.set_alpha(alpha_mask)\n",
    "    plt.colorbar(im, ax=ax, fraction=0.046, pad=0.04, label=f\"Mean presence {label_A}−{label_B}\")\n",
    "    ax.set_title(f\"{label_A} vs {label_B} (KSG presence)\\nBH–FDR α={alpha}\")\n",
    "    ax.set_xlabel(\"Target\"); ax.set_ylabel(\"Source\")\n",
    "    out = OUTDIR / f\"{outstem}_KSG_diffmap.png\"\n",
    "    plt.tight_layout(); plt.savefig(out, bbox_inches=\"tight\"); plt.close(fig)\n",
    "    print(f\"Saved: {out}\")\n",
    "\n",
    "    # Return summary\n",
    "    return {\"total\": total, f\"{label_A}>{label_B}\": HgtPD, f\"{label_B}>{label_A}\": PDgtH,\n",
    "            \"pvals\": pvals, \"mask\": mask, \"sig\": sig_vec, \"obs\": obs}\n"
   ]
  },
  {
   "cell_type": "code",
   "execution_count": 4,
   "id": "fc5f6634-f1d9-4e8d-b7eb-4f5c7be669b5",
   "metadata": {},
   "outputs": [
    {
     "name": "stdout",
     "output_type": "stream",
     "text": [
      "Testing 506 candidate edges\n",
      "Significant edges: total=3, Healthy>PD-off=2, PD-off>Healthy=1\n",
      "Saved: /home/majlepy2/myproject/Step-wise/figs/Healthy_vs_PDoff_KSG_diffmap.png\n",
      "Testing 506 candidate edges\n",
      "Significant edges: total=2, Healthy>PD-on=0, PD-on>Healthy=2\n",
      "Saved: /home/majlepy2/myproject/Step-wise/figs/Healthy_vs_PDon_KSG_diffmap.png\n"
     ]
    }
   ],
   "source": [
    "res_HvsOFF = independent_edge_test(mats_H, mats_OFF,\n",
    "                                   label_A=\"Healthy\", label_B=\"PD-off\",\n",
    "                                   outstem=\"Healthy_vs_PDoff\")\n",
    "\n",
    "res_HvsON  = independent_edge_test(mats_H, mats_ON,\n",
    "                                   label_A=\"Healthy\", label_B=\"PD-on\",\n",
    "                                   outstem=\"Healthy_vs_PDon\")\n"
   ]
  },
  {
   "cell_type": "code",
   "execution_count": 5,
   "id": "324cc32d-50d0-46e6-81d2-731722f5ebd5",
   "metadata": {},
   "outputs": [
    {
     "name": "stdout",
     "output_type": "stream",
     "text": [
      "Jaccard 70%: H vs OFF=0.560, H vs ON=0.643\n",
      "Jaccard 90%: H vs OFF=0.129, H vs ON=0.201\n"
     ]
    }
   ],
   "source": [
    "def jaccard_overlap(mats_A, mats_B, thr, label_A, label_B):\n",
    "    # presence fractions\n",
    "    mean_A = mats_A.mean(axis=0)\n",
    "    mean_B = mats_B.mean(axis=0)\n",
    "    set_A = (mean_A >= thr)\n",
    "    set_B = (mean_B >= thr)\n",
    "    inter = (set_A & set_B).sum()\n",
    "    union = (set_A | set_B).sum()\n",
    "    return inter / union if union>0 else np.nan\n",
    "\n",
    "for thr, thrname in [(0.7, \"70%\"), (0.9, \"90%\")]:\n",
    "    j_off = jaccard_overlap(mats_H, mats_OFF, thr, \"H\", \"OFF\")\n",
    "    j_on  = jaccard_overlap(mats_H, mats_ON, thr, \"H\", \"ON\")\n",
    "    print(f\"Jaccard {thrname}: H vs OFF={j_off:.3f}, H vs ON={j_on:.3f}\")\n"
   ]
  },
  {
   "cell_type": "code",
   "execution_count": null,
   "id": "f52c7329-021b-43f6-96c9-6dd52c891441",
   "metadata": {},
   "outputs": [],
   "source": []
  }
 ],
 "metadata": {
  "kernelspec": {
   "display_name": "Python 3 (ipykernel)",
   "language": "python",
   "name": "python3"
  },
  "language_info": {
   "codemirror_mode": {
    "name": "ipython",
    "version": 3
   },
   "file_extension": ".py",
   "mimetype": "text/x-python",
   "name": "python",
   "nbconvert_exporter": "python",
   "pygments_lexer": "ipython3",
   "version": "3.11.7"
  }
 },
 "nbformat": 4,
 "nbformat_minor": 5
}
